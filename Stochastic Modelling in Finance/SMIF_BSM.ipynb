{
 "cells": [
  {
   "cell_type": "code",
   "execution_count": 9,
   "id": "41ace709",
   "metadata": {},
   "outputs": [],
   "source": [
    "#Import Libraries\n",
    "import numpy as np\n",
    "import pandas as pd\n",
    "import opstrat as op\n",
    "from scipy.stats import norm\n",
    "import matplotlib.pyplot as plt\n",
    "#from sympy import *\n",
    "import sympy as sp"
   ]
  },
  {
   "cell_type": "code",
   "execution_count": 10,
   "id": "d3a69749",
   "metadata": {},
   "outputs": [],
   "source": [
    "#Declare parameters\n",
    "K=200    #spot price\n",
    "St=208   #current stock price\n",
    "r=4      #4% risk free rate\n",
    "t=30     #time to expiry, 30 days \n",
    "v=20     #volatility \n",
    "type='c' #Option type call\n",
    "#Black Scholes Model\n",
    "bsm=op.black_scholes(K=K, St=St, r=r, t=t, \n",
    "                     v=v, type='c')"
   ]
  },
  {
   "cell_type": "code",
   "execution_count": 11,
   "id": "1625fee3",
   "metadata": {},
   "outputs": [
    {
     "data": {
      "text/plain": [
       "{'option value': 10.210518559926442,\n",
       " 'intrinsic value': 8,\n",
       " 'time value': 2.2105185599264416}"
      ]
     },
     "execution_count": 11,
     "metadata": {},
     "output_type": "execute_result"
    }
   ],
   "source": [
    "bsm['value']"
   ]
  },
  {
   "cell_type": "code",
   "execution_count": 12,
   "id": "42ac967c",
   "metadata": {},
   "outputs": [
    {
     "data": {
      "text/plain": [
       "10.210518559926442"
      ]
     },
     "execution_count": 12,
     "metadata": {},
     "output_type": "execute_result"
    }
   ],
   "source": [
    "bsm['value']['option value']"
   ]
  },
  {
   "cell_type": "code",
   "execution_count": 13,
   "id": "ac84fe58",
   "metadata": {},
   "outputs": [
    {
     "data": {
      "text/plain": [
       "{'delta': 0.7793593241701937,\n",
       " 'gamma': 0.024868265088898882,\n",
       " 'theta': -0.07559961986526405,\n",
       " 'vega': 0.17686037602292404,\n",
       " 'rho': 0.12484620893217029}"
      ]
     },
     "execution_count": 13,
     "metadata": {},
     "output_type": "execute_result"
    }
   ],
   "source": [
    "bsm['greeks']"
   ]
  },
  {
   "cell_type": "code",
   "execution_count": 14,
   "id": "e0f2621a",
   "metadata": {},
   "outputs": [
    {
     "data": {
      "text/plain": [
       "-0.07559961986526405"
      ]
     },
     "execution_count": 14,
     "metadata": {},
     "output_type": "execute_result"
    }
   ],
   "source": [
    "bsm['greeks']['theta']"
   ]
  },
  {
   "cell_type": "markdown",
   "id": "a2f00fec",
   "metadata": {},
   "source": [
    "###########################################################################################################################"
   ]
  },
  {
   "cell_type": "code",
   "execution_count": 15,
   "id": "af162333",
   "metadata": {},
   "outputs": [],
   "source": [
    "N = norm.cdf\n",
    "\n",
    "def BS_CALL(S, K, T, r, sigma):\n",
    "    d1 = (np.log(S/K) + (r + sigma**2/2)*T) / (sigma*np.sqrt(T))\n",
    "    d2 = d1 - sigma * np.sqrt(T)\n",
    "    return S * N(d1) - K * np.exp(-r*T)* N(d2)\n",
    "\n",
    "def BS_PUT(S, K, T, r, sigma):\n",
    "    d1 = (np.log(S/K) + (r + sigma**2/2)*T) / (sigma*np.sqrt(T))\n",
    "    d2 = d1 - sigma* np.sqrt(T)\n",
    "    return K*np.exp(-r*T)*N(-d2) - S*N(-d1)\n",
    "\n"
   ]
  },
  {
   "cell_type": "code",
   "execution_count": 16,
   "id": "69f3766b",
   "metadata": {},
   "outputs": [
    {
     "name": "stdout",
     "output_type": "stream",
     "text": [
      "Expression : (T*(r + sigma**2/2) + log(S/K))/(sqrt(T)*sigma) \n"
     ]
    }
   ],
   "source": [
    "S = sp.Symbol('S') \n",
    "K = sp.Symbol('K') \n",
    "T = sp.Symbol('T') \n",
    "r = sp.Symbol('r') \n",
    "sigma = sp.Symbol('sigma') \n",
    "\n",
    "d1 = (sp.log(S/K) + (r + sigma**2/2)*T) / (sigma*sp.sqrt(T))\n",
    "print(\"Expression : {} \".format(d1))\n",
    "\n",
    "nd = Derivative(d1, S)"
   ]
  },
  {
   "cell_type": "code",
   "execution_count": 17,
   "id": "ab515286",
   "metadata": {},
   "outputs": [
    {
     "data": {
      "text/latex": [
       "$\\displaystyle \\frac{\\partial}{\\partial S} \\frac{T \\left(r + \\frac{\\sigma^{2}}{2}\\right) + \\log{\\left(\\frac{S}{K} \\right)}}{\\sqrt{T} \\sigma}$"
      ],
      "text/plain": [
       "Derivative((T*(r + sigma**2/2) + log(S/K))/(sqrt(T)*sigma), S)"
      ]
     },
     "execution_count": 17,
     "metadata": {},
     "output_type": "execute_result"
    }
   ],
   "source": [
    "nd"
   ]
  },
  {
   "cell_type": "code",
   "execution_count": 18,
   "id": "dfa2714f",
   "metadata": {},
   "outputs": [
    {
     "data": {
      "text/latex": [
       "$\\displaystyle \\frac{1}{S \\sqrt{T} \\sigma}$"
      ],
      "text/plain": [
       "1/(S*sqrt(T)*sigma)"
      ]
     },
     "execution_count": 18,
     "metadata": {},
     "output_type": "execute_result"
    }
   ],
   "source": [
    "n_d = nd.doit()\n",
    "n_d"
   ]
  },
  {
   "cell_type": "code",
   "execution_count": 19,
   "id": "74cd5260",
   "metadata": {},
   "outputs": [],
   "source": [
    "## S Effect on Option Value\n",
    "St = 100\n",
    "rf = 0.1\n",
    "t = 1\n",
    "sig = 0.3\n",
    "\n",
    "Sp = np.arange(60,140,1)"
   ]
  },
  {
   "cell_type": "code",
   "execution_count": 20,
   "id": "5ad91fa8",
   "metadata": {
    "scrolled": true
   },
   "outputs": [],
   "source": [
    "part_gamma = n_d.subs([(T,t),(r,rf),(K,St),(sigma,sig),(S,Sp)])"
   ]
  },
  {
   "cell_type": "code",
   "execution_count": 21,
   "id": "2280a6f6",
   "metadata": {},
   "outputs": [],
   "source": [
    "gamma = part_gamma*part_gamma"
   ]
  },
  {
   "cell_type": "code",
   "execution_count": 22,
   "id": "99ec57ee",
   "metadata": {},
   "outputs": [],
   "source": [
    "gammas = [gamma.evalf(2, subs = {S:Sp[i]}) for i in range(len(Sp))]"
   ]
  },
  {
   "cell_type": "code",
   "execution_count": 23,
   "id": "2beefc90",
   "metadata": {
    "scrolled": true
   },
   "outputs": [
    {
     "data": {
      "text/plain": [
       "[0.0031,\n",
       " 0.0030,\n",
       " 0.0029,\n",
       " 0.0028,\n",
       " 0.0027,\n",
       " 0.0026,\n",
       " 0.0026,\n",
       " 0.0025,\n",
       " 0.0024,\n",
       " 0.0023,\n",
       " 0.0023,\n",
       " 0.0022,\n",
       " 0.0021,\n",
       " 0.0021,\n",
       " 0.0020,\n",
       " 0.0020,\n",
       " 0.0019,\n",
       " 0.0019,\n",
       " 0.0018,\n",
       " 0.0018,\n",
       " 0.0017,\n",
       " 0.0017,\n",
       " 0.0017,\n",
       " 0.0016,\n",
       " 0.0016,\n",
       " 0.0015,\n",
       " 0.0015,\n",
       " 0.0015,\n",
       " 0.0014,\n",
       " 0.0014,\n",
       " 0.0014,\n",
       " 0.0013,\n",
       " 0.0013,\n",
       " 0.0013,\n",
       " 0.0013,\n",
       " 0.0012,\n",
       " 0.0012,\n",
       " 0.0012,\n",
       " 0.0012,\n",
       " 0.0011,\n",
       " 0.0011,\n",
       " 0.0011,\n",
       " 0.0011,\n",
       " 0.0010,\n",
       " 0.0010,\n",
       " 0.0010,\n",
       " 0.00099,\n",
       " 0.00097,\n",
       " 0.00095,\n",
       " 0.00094,\n",
       " 0.00092,\n",
       " 0.00090,\n",
       " 0.00089,\n",
       " 0.00087,\n",
       " 0.00085,\n",
       " 0.00084,\n",
       " 0.00083,\n",
       " 0.00081,\n",
       " 0.00080,\n",
       " 0.00078,\n",
       " 0.00077,\n",
       " 0.00076,\n",
       " 0.00075,\n",
       " 0.00073,\n",
       " 0.00072,\n",
       " 0.00071,\n",
       " 0.00070,\n",
       " 0.00069,\n",
       " 0.00068,\n",
       " 0.00067,\n",
       " 0.00066,\n",
       " 0.00065,\n",
       " 0.00064,\n",
       " 0.00063,\n",
       " 0.00062,\n",
       " 0.00061,\n",
       " 0.00060,\n",
       " 0.00059,\n",
       " 0.00058,\n",
       " 0.00058]"
      ]
     },
     "execution_count": 23,
     "metadata": {},
     "output_type": "execute_result"
    }
   ],
   "source": [
    "gammas"
   ]
  },
  {
   "cell_type": "code",
   "execution_count": 24,
   "id": "f0863203",
   "metadata": {
    "scrolled": true
   },
   "outputs": [
    {
     "data": {
      "text/plain": [
       "array([0.056, 0.055, 0.054, 0.053, 0.052, 0.051, 0.051, 0.050, 0.049,\n",
       "       0.048, 0.048, 0.047, 0.046, 0.046, 0.045, 0.044, 0.044, 0.043,\n",
       "       0.043, 0.042, 0.042, 0.041, 0.041, 0.040, 0.040, 0.039, 0.039,\n",
       "       0.038, 0.038, 0.037, 0.037, 0.037, 0.036, 0.036, 0.035, 0.035,\n",
       "       0.035, 0.034, 0.034, 0.034, 0.033, 0.033, 0.033, 0.032, 0.032,\n",
       "       0.032, 0.031, 0.031, 0.031, 0.031, 0.030, 0.030, 0.030, 0.030,\n",
       "       0.029, 0.029, 0.029, 0.029, 0.028, 0.028, 0.028, 0.028, 0.027,\n",
       "       0.027, 0.027, 0.027, 0.026, 0.026, 0.026, 0.026, 0.026, 0.025,\n",
       "       0.025, 0.025, 0.025, 0.025, 0.025, 0.024, 0.024, 0.024],\n",
       "      dtype=object)"
      ]
     },
     "execution_count": 24,
     "metadata": {},
     "output_type": "execute_result"
    }
   ],
   "source": [
    "n_d1 = np.array([part_gamma.evalf(2, subs = {S:Sp[i]}) for i in range(len(Sp))])\n",
    "n_d1"
   ]
  },
  {
   "cell_type": "code",
   "execution_count": 25,
   "id": "89058118",
   "metadata": {
    "scrolled": true
   },
   "outputs": [],
   "source": [
    "vegas = St*np.sqrt(t)*n_d1"
   ]
  },
  {
   "cell_type": "code",
   "execution_count": 26,
   "id": "82939b3e",
   "metadata": {},
   "outputs": [],
   "source": [
    "d1_call = (np.log(Sp/St) + (rf + sig**2/2)*t) / (sig*np.sqrt(t))\n",
    "d2_call = d1_call - sig * np.sqrt(t)\n",
    "d1_put = (np.log(Sp/St) + (rf + sig**2/2)*t) / (sig*np.sqrt(t))\n",
    "d2_put = d1_put - sig* np.sqrt(t)\n"
   ]
  },
  {
   "cell_type": "code",
   "execution_count": 27,
   "id": "74669a70",
   "metadata": {},
   "outputs": [],
   "source": [
    "Delta_Call = N(d1_call)\n",
    "Delta_Put = N(d1_call) - 1\n",
    "Gamma = np.array(gammas)\n",
    "Vega = vegas"
   ]
  },
  {
   "cell_type": "code",
   "execution_count": 28,
   "id": "63dc153f",
   "metadata": {},
   "outputs": [
    {
     "data": {
      "text/plain": [
       "<matplotlib.legend.Legend at 0x22223f92e50>"
      ]
     },
     "execution_count": 28,
     "metadata": {},
     "output_type": "execute_result"
    },
    {
     "data": {
      "image/png": "[encoded data removed]",
      "text/plain": [
       "<Figure size 432x288 with 1 Axes>"
      ]
     },
     "metadata": {
      "needs_background": "light"
     },
     "output_type": "display_data"
    }
   ],
   "source": [
    "calls = [BS_CALL(s, St, t, rf, sig) for s in Sp]\n",
    "puts = [BS_PUT(s, St, t, rf, sig) for s in Sp]\n",
    "plt.plot(Sp, calls, label='Call Value')\n",
    "plt.plot(Sp, puts, label='Put Value')\n",
    "plt.xlabel('$S_0$')\n",
    "plt.ylabel(' Value')\n",
    "plt.legend()"
   ]
  },
  {
   "cell_type": "code",
   "execution_count": 29,
   "id": "495aee1f",
   "metadata": {},
   "outputs": [
    {
     "data": {
      "text/html": [
       "<div>\n",
       "<style scoped>\n",
       "    .dataframe tbody tr th:only-of-type {\n",
       "        vertical-align: middle;\n",
       "    }\n",
       "\n",
       "    .dataframe tbody tr th {\n",
       "        vertical-align: top;\n",
       "    }\n",
       "\n",
       "    .dataframe thead th {\n",
       "        text-align: right;\n",
       "    }\n",
       "</style>\n",
       "<table border=\"1\" class=\"dataframe\">\n",
       "  <thead>\n",
       "    <tr style=\"text-align: right;\">\n",
       "      <th></th>\n",
       "      <th>calls</th>\n",
       "      <th>puts</th>\n",
       "      <th>S_0</th>\n",
       "      <th>Delta_Call</th>\n",
       "      <th>Delta_Put</th>\n",
       "      <th>Gamma</th>\n",
       "      <th>Vega</th>\n",
       "    </tr>\n",
       "  </thead>\n",
       "  <tbody>\n",
       "    <tr>\n",
       "      <th>0</th>\n",
       "      <td>0.859870</td>\n",
       "      <td>31.343612</td>\n",
       "      <td>60</td>\n",
       "      <td>0.111343</td>\n",
       "      <td>-0.888657</td>\n",
       "      <td>0.0031</td>\n",
       "      <td>5.55419921875000</td>\n",
       "    </tr>\n",
       "    <tr>\n",
       "      <th>1</th>\n",
       "      <td>0.976570</td>\n",
       "      <td>30.460312</td>\n",
       "      <td>61</td>\n",
       "      <td>0.122147</td>\n",
       "      <td>-0.877853</td>\n",
       "      <td>0.0030</td>\n",
       "      <td>5.46264648437500</td>\n",
       "    </tr>\n",
       "    <tr>\n",
       "      <th>2</th>\n",
       "      <td>1.104338</td>\n",
       "      <td>29.588080</td>\n",
       "      <td>62</td>\n",
       "      <td>0.133474</td>\n",
       "      <td>-0.866526</td>\n",
       "      <td>0.0029</td>\n",
       "      <td>5.37719726562500</td>\n",
       "    </tr>\n",
       "    <tr>\n",
       "      <th>3</th>\n",
       "      <td>1.243686</td>\n",
       "      <td>28.727428</td>\n",
       "      <td>63</td>\n",
       "      <td>0.145305</td>\n",
       "      <td>-0.854695</td>\n",
       "      <td>0.0028</td>\n",
       "      <td>5.29174804687500</td>\n",
       "    </tr>\n",
       "    <tr>\n",
       "      <th>4</th>\n",
       "      <td>1.395109</td>\n",
       "      <td>27.878851</td>\n",
       "      <td>64</td>\n",
       "      <td>0.157619</td>\n",
       "      <td>-0.842381</td>\n",
       "      <td>0.0027</td>\n",
       "      <td>5.20629882812500</td>\n",
       "    </tr>\n",
       "    <tr>\n",
       "      <th>...</th>\n",
       "      <td>...</td>\n",
       "      <td>...</td>\n",
       "      <td>...</td>\n",
       "      <td>...</td>\n",
       "      <td>...</td>\n",
       "      <td>...</td>\n",
       "      <td>...</td>\n",
       "    </tr>\n",
       "    <tr>\n",
       "      <th>75</th>\n",
       "      <td>45.909926</td>\n",
       "      <td>1.393667</td>\n",
       "      <td>135</td>\n",
       "      <td>0.931053</td>\n",
       "      <td>-0.068947</td>\n",
       "      <td>0.00061</td>\n",
       "      <td>2.46887207031250</td>\n",
       "    </tr>\n",
       "    <tr>\n",
       "      <th>76</th>\n",
       "      <td>46.842593</td>\n",
       "      <td>1.326335</td>\n",
       "      <td>136</td>\n",
       "      <td>0.934259</td>\n",
       "      <td>-0.065741</td>\n",
       "      <td>0.00060</td>\n",
       "      <td>2.45056152343750</td>\n",
       "    </tr>\n",
       "    <tr>\n",
       "      <th>77</th>\n",
       "      <td>47.778397</td>\n",
       "      <td>1.262139</td>\n",
       "      <td>137</td>\n",
       "      <td>0.937325</td>\n",
       "      <td>-0.062675</td>\n",
       "      <td>0.00059</td>\n",
       "      <td>2.43225097656250</td>\n",
       "    </tr>\n",
       "    <tr>\n",
       "      <th>78</th>\n",
       "      <td>48.717200</td>\n",
       "      <td>1.200942</td>\n",
       "      <td>138</td>\n",
       "      <td>0.940258</td>\n",
       "      <td>-0.059742</td>\n",
       "      <td>0.00058</td>\n",
       "      <td>2.41699218750000</td>\n",
       "    </tr>\n",
       "    <tr>\n",
       "      <th>79</th>\n",
       "      <td>49.658871</td>\n",
       "      <td>1.142612</td>\n",
       "      <td>139</td>\n",
       "      <td>0.943062</td>\n",
       "      <td>-0.056938</td>\n",
       "      <td>0.00058</td>\n",
       "      <td>2.39868164062500</td>\n",
       "    </tr>\n",
       "  </tbody>\n",
       "</table>\n",
       "<p>80 rows × 7 columns</p>\n",
       "</div>"
      ],
      "text/plain": [
       "        calls       puts  S_0  Delta_Call  Delta_Put    Gamma  \\\n",
       "0    0.859870  31.343612   60    0.111343  -0.888657   0.0031   \n",
       "1    0.976570  30.460312   61    0.122147  -0.877853   0.0030   \n",
       "2    1.104338  29.588080   62    0.133474  -0.866526   0.0029   \n",
       "3    1.243686  28.727428   63    0.145305  -0.854695   0.0028   \n",
       "4    1.395109  27.878851   64    0.157619  -0.842381   0.0027   \n",
       "..        ...        ...  ...         ...        ...      ...   \n",
       "75  45.909926   1.393667  135    0.931053  -0.068947  0.00061   \n",
       "76  46.842593   1.326335  136    0.934259  -0.065741  0.00060   \n",
       "77  47.778397   1.262139  137    0.937325  -0.062675  0.00059   \n",
       "78  48.717200   1.200942  138    0.940258  -0.059742  0.00058   \n",
       "79  49.658871   1.142612  139    0.943062  -0.056938  0.00058   \n",
       "\n",
       "                Vega  \n",
       "0   5.55419921875000  \n",
       "1   5.46264648437500  \n",
       "2   5.37719726562500  \n",
       "3   5.29174804687500  \n",
       "4   5.20629882812500  \n",
       "..               ...  \n",
       "75  2.46887207031250  \n",
       "76  2.45056152343750  \n",
       "77  2.43225097656250  \n",
       "78  2.41699218750000  \n",
       "79  2.39868164062500  \n",
       "\n",
       "[80 rows x 7 columns]"
      ]
     },
     "execution_count": 29,
     "metadata": {},
     "output_type": "execute_result"
    }
   ],
   "source": [
    "df_s = pd.DataFrame(list(zip(calls, puts, Sp, Delta_Call, Delta_Put, Gamma, Vega)),columns =[\"calls\", \"puts\", \"S_0\",\"Delta_Call\",\"Delta_Put\",\"Gamma\", \"Vega\"])\n",
    "df_s"
   ]
  },
  {
   "cell_type": "code",
   "execution_count": 30,
   "id": "4ffaefb4",
   "metadata": {},
   "outputs": [
    {
     "data": {
      "text/plain": [
       "<matplotlib.legend.Legend at 0x22224637670>"
      ]
     },
     "execution_count": 30,
     "metadata": {},
     "output_type": "execute_result"
    },
    {
     "data": {
      "image/png": "[encoded data removed]",
      "text/plain": [
       "<Figure size 432x288 with 1 Axes>"
      ]
     },
     "metadata": {
      "needs_background": "light"
     },
     "output_type": "display_data"
    }
   ],
   "source": [
    "plt.plot(df_s['S_0'], df_s['Delta_Call'], label='Delta_Call')\n",
    "plt.plot(df_s['S_0'], df_s['Delta_Put'], label='Delta_Put')\n",
    "plt.xlabel('$S_0$')\n",
    "plt.ylabel(' Value')\n",
    "plt.legend()"
   ]
  },
  {
   "cell_type": "code",
   "execution_count": 31,
   "id": "b8179ef5",
   "metadata": {},
   "outputs": [
    {
     "data": {
      "text/plain": [
       "<matplotlib.legend.Legend at 0x22224bbfb20>"
      ]
     },
     "execution_count": 31,
     "metadata": {},
     "output_type": "execute_result"
    },
    {
     "data": {
      "image/png": "[encoded data removed]",
      "text/plain": [
       "<Figure size 432x288 with 1 Axes>"
      ]
     },
     "metadata": {
      "needs_background": "light"
     },
     "output_type": "display_data"
    }
   ],
   "source": [
    "plt.plot(df_s['S_0'], df_s['Gamma'], label='Gamma')\n",
    "plt.xlabel('$S_0$')\n",
    "plt.ylabel(' Value')\n",
    "plt.legend()"
   ]
  },
  {
   "cell_type": "code",
   "execution_count": 32,
   "id": "21470cb5",
   "metadata": {},
   "outputs": [
    {
     "data": {
      "text/plain": [
       "<matplotlib.legend.Legend at 0x22224c54ee0>"
      ]
     },
     "execution_count": 32,
     "metadata": {},
     "output_type": "execute_result"
    },
    {
     "data": {
      "image/png": "[encoded data removed]",
      "text/plain": [
       "<Figure size 432x288 with 1 Axes>"
      ]
     },
     "metadata": {
      "needs_background": "light"
     },
     "output_type": "display_data"
    }
   ],
   "source": [
    "plt.plot(df_s['S_0'], df_s['Vega'], label='Vega')\n",
    "plt.xlabel('$S_0$')\n",
    "plt.ylabel(' Value')\n",
    "plt.legend()"
   ]
  },
  {
   "cell_type": "code",
   "execution_count": 33,
   "id": "c105856a",
   "metadata": {},
   "outputs": [],
   "source": [
    "## σ Effect on Black-Scholes Value\n",
    "\n",
    "K = 100\n",
    "r = 0.1\n",
    "T = 1\n",
    "Sigmas = np.arange(0.1, 10, 0.01)\n",
    "S = 100"
   ]
  },
  {
   "cell_type": "code",
   "execution_count": 34,
   "id": "feeb8132",
   "metadata": {},
   "outputs": [
    {
     "data": {
      "text/plain": [
       "<matplotlib.legend.Legend at 0x22224d22970>"
      ]
     },
     "execution_count": 34,
     "metadata": {},
     "output_type": "execute_result"
    },
    {
     "data": {
      "image/png": "[encoded data removed]",
      "text/plain": [
       "<Figure size 432x288 with 1 Axes>"
      ]
     },
     "metadata": {
      "needs_background": "light"
     },
     "output_type": "display_data"
    }
   ],
   "source": [
    "calls = [BS_CALL(S, K, T, r, sig) for sig in Sigmas]\n",
    "puts = [BS_PUT(S, K, T, r, sig) for sig in Sigmas]\n",
    "plt.plot(Sigmas, calls, label='Call Value')\n",
    "plt.plot(Sigmas, puts, label='Put Value')\n",
    "plt.xlabel('$\\sigma$')\n",
    "plt.ylabel(' Value')\n",
    "plt.legend()"
   ]
  },
  {
   "cell_type": "code",
   "execution_count": 35,
   "id": "ee0cd6b6",
   "metadata": {},
   "outputs": [
    {
     "data": {
      "text/html": [
       "<div>\n",
       "<style scoped>\n",
       "    .dataframe tbody tr th:only-of-type {\n",
       "        vertical-align: middle;\n",
       "    }\n",
       "\n",
       "    .dataframe tbody tr th {\n",
       "        vertical-align: top;\n",
       "    }\n",
       "\n",
       "    .dataframe thead th {\n",
       "        text-align: right;\n",
       "    }\n",
       "</style>\n",
       "<table border=\"1\" class=\"dataframe\">\n",
       "  <thead>\n",
       "    <tr style=\"text-align: right;\">\n",
       "      <th></th>\n",
       "      <th>calls</th>\n",
       "      <th>puts</th>\n",
       "      <th>Sigmas</th>\n",
       "    </tr>\n",
       "  </thead>\n",
       "  <tbody>\n",
       "    <tr>\n",
       "      <th>0</th>\n",
       "      <td>10.308151</td>\n",
       "      <td>0.791893</td>\n",
       "      <td>0.10</td>\n",
       "    </tr>\n",
       "    <tr>\n",
       "      <th>1</th>\n",
       "      <td>10.548767</td>\n",
       "      <td>1.032509</td>\n",
       "      <td>0.11</td>\n",
       "    </tr>\n",
       "    <tr>\n",
       "      <th>2</th>\n",
       "      <td>10.808215</td>\n",
       "      <td>1.291956</td>\n",
       "      <td>0.12</td>\n",
       "    </tr>\n",
       "    <tr>\n",
       "      <th>3</th>\n",
       "      <td>11.083128</td>\n",
       "      <td>1.566870</td>\n",
       "      <td>0.13</td>\n",
       "    </tr>\n",
       "    <tr>\n",
       "      <th>4</th>\n",
       "      <td>11.370818</td>\n",
       "      <td>1.854559</td>\n",
       "      <td>0.14</td>\n",
       "    </tr>\n",
       "  </tbody>\n",
       "</table>\n",
       "</div>"
      ],
      "text/plain": [
       "       calls      puts  Sigmas\n",
       "0  10.308151  0.791893    0.10\n",
       "1  10.548767  1.032509    0.11\n",
       "2  10.808215  1.291956    0.12\n",
       "3  11.083128  1.566870    0.13\n",
       "4  11.370818  1.854559    0.14"
      ]
     },
     "execution_count": 35,
     "metadata": {},
     "output_type": "execute_result"
    }
   ],
   "source": [
    "df_Sigma = pd.DataFrame(list(zip(calls, puts, Sigmas)),columns =[\"calls\", \"puts\", \"Sigmas\"])\n",
    "df_Sigma.head()"
   ]
  },
  {
   "cell_type": "code",
   "execution_count": 36,
   "id": "72e1c98c",
   "metadata": {},
   "outputs": [
    {
     "data": {
      "text/plain": [
       "<matplotlib.legend.Legend at 0x22224d9f6a0>"
      ]
     },
     "execution_count": 36,
     "metadata": {},
     "output_type": "execute_result"
    },
    {
     "data": {
      "image/png": "[encoded data removed]",
      "text/plain": [
       "<Figure size 432x288 with 1 Axes>"
      ]
     },
     "metadata": {
      "needs_background": "light"
     },
     "output_type": "display_data"
    }
   ],
   "source": [
    "## Effect of Time on Black-Scholes Price\n",
    "K = 100\n",
    "r = 0.05\n",
    "T = np.arange(0, 5, 0.01)\n",
    "sigma = 0.3\n",
    "S = 100\n",
    "\n",
    "calls = [BS_CALL(S, K, t, r, sigma) for t in T]\n",
    "puts = [BS_PUT(S, K, t, r, sigma) for t in T]\n",
    "plt.plot(T, calls, label='Call Value')\n",
    "plt.plot(T, puts, label='Put Value')\n",
    "plt.xlabel('$T$ in years')\n",
    "plt.ylabel(' Value')\n",
    "plt.legend()"
   ]
  },
  {
   "cell_type": "code",
   "execution_count": 37,
   "id": "1a6014a5",
   "metadata": {},
   "outputs": [
    {
     "data": {
      "text/html": [
       "<div>\n",
       "<style scoped>\n",
       "    .dataframe tbody tr th:only-of-type {\n",
       "        vertical-align: middle;\n",
       "    }\n",
       "\n",
       "    .dataframe tbody tr th {\n",
       "        vertical-align: top;\n",
       "    }\n",
       "\n",
       "    .dataframe thead th {\n",
       "        text-align: right;\n",
       "    }\n",
       "</style>\n",
       "<table border=\"1\" class=\"dataframe\">\n",
       "  <thead>\n",
       "    <tr style=\"text-align: right;\">\n",
       "      <th></th>\n",
       "      <th>calls</th>\n",
       "      <th>puts</th>\n",
       "      <th>Time</th>\n",
       "    </tr>\n",
       "  </thead>\n",
       "  <tbody>\n",
       "    <tr>\n",
       "      <th>0</th>\n",
       "      <td>NaN</td>\n",
       "      <td>NaN</td>\n",
       "      <td>0.00</td>\n",
       "    </tr>\n",
       "    <tr>\n",
       "      <th>1</th>\n",
       "      <td>1.221643</td>\n",
       "      <td>1.171655</td>\n",
       "      <td>0.01</td>\n",
       "    </tr>\n",
       "    <tr>\n",
       "      <th>2</th>\n",
       "      <td>1.742041</td>\n",
       "      <td>1.642091</td>\n",
       "      <td>0.02</td>\n",
       "    </tr>\n",
       "    <tr>\n",
       "      <th>3</th>\n",
       "      <td>2.146985</td>\n",
       "      <td>1.997097</td>\n",
       "      <td>0.03</td>\n",
       "    </tr>\n",
       "    <tr>\n",
       "      <th>4</th>\n",
       "      <td>2.492132</td>\n",
       "      <td>2.292331</td>\n",
       "      <td>0.04</td>\n",
       "    </tr>\n",
       "  </tbody>\n",
       "</table>\n",
       "</div>"
      ],
      "text/plain": [
       "      calls      puts  Time\n",
       "0       NaN       NaN  0.00\n",
       "1  1.221643  1.171655  0.01\n",
       "2  1.742041  1.642091  0.02\n",
       "3  2.146985  1.997097  0.03\n",
       "4  2.492132  2.292331  0.04"
      ]
     },
     "execution_count": 37,
     "metadata": {},
     "output_type": "execute_result"
    }
   ],
   "source": [
    "df_Time = pd.DataFrame(list(zip(calls, puts, T)),columns =[\"calls\", \"puts\", \"Time\"])\n",
    "df_Time.head()"
   ]
  },
  {
   "cell_type": "code",
   "execution_count": 38,
   "id": "d5f60a52",
   "metadata": {},
   "outputs": [
    {
     "data": {
      "text/plain": [
       "Text(0.5, 1.0, 'MS Rolling Volatility')"
      ]
     },
     "execution_count": 38,
     "metadata": {},
     "output_type": "execute_result"
    },
    {
     "data": {
      "image/png": "[encoded data removed]",
      "text/plain": [
       "<Figure size 432x288 with 1 Axes>"
      ]
     },
     "metadata": {
      "needs_background": "light"
     },
     "output_type": "display_data"
    }
   ],
   "source": [
    "import pandas_datareader.data as web\n",
    "import pandas as pd\n",
    "import datetime as dt\n",
    "import numpy as np\n",
    "import matplotlib.pyplot as plt\n",
    "\n",
    "start = dt.datetime(2005,1,1)  \n",
    "end =dt.datetime(2022,10,1)\n",
    "symbol = 'MS' ###using Morgan Stanley as an example\n",
    "source = 'yahoo'\n",
    "data = web.DataReader(symbol, source, start, end)\n",
    "data['change'] = data['Adj Close'].pct_change()\n",
    "data['rolling_sigma'] = data['change'].rolling(20).std() * np.sqrt(255)\n",
    "\n",
    "\n",
    "data.rolling_sigma.plot()\n",
    "plt.ylabel('$\\sigma$')\n",
    "plt.title('MS Rolling Volatility')"
   ]
  },
  {
   "cell_type": "markdown",
   "id": "8c5fe951",
   "metadata": {},
   "source": [
    "##### The script below calculates the rolling standard deviation for Morgan Stanley over approximately 7 years. Notice that the volatility is in no way stable, if we take the standard deviation over the entire sample it is approximately 0.28 , however, notice that in early-mid 2020 during there is a large spike. As mentioned, the Black-Scholes model assumes this parameter is constant. \n",
    "\n"
   ]
  },
  {
   "cell_type": "code",
   "execution_count": 39,
   "id": "87516253",
   "metadata": {},
   "outputs": [
    {
     "data": {
      "text/html": [
       "<div>\n",
       "<style scoped>\n",
       "    .dataframe tbody tr th:only-of-type {\n",
       "        vertical-align: middle;\n",
       "    }\n",
       "\n",
       "    .dataframe tbody tr th {\n",
       "        vertical-align: top;\n",
       "    }\n",
       "\n",
       "    .dataframe thead th {\n",
       "        text-align: right;\n",
       "    }\n",
       "</style>\n",
       "<table border=\"1\" class=\"dataframe\">\n",
       "  <thead>\n",
       "    <tr style=\"text-align: right;\">\n",
       "      <th></th>\n",
       "      <th>High</th>\n",
       "      <th>Low</th>\n",
       "      <th>Open</th>\n",
       "      <th>Close</th>\n",
       "      <th>Volume</th>\n",
       "      <th>Adj Close</th>\n",
       "      <th>change</th>\n",
       "      <th>rolling_sigma</th>\n",
       "    </tr>\n",
       "    <tr>\n",
       "      <th>Date</th>\n",
       "      <th></th>\n",
       "      <th></th>\n",
       "      <th></th>\n",
       "      <th></th>\n",
       "      <th></th>\n",
       "      <th></th>\n",
       "      <th></th>\n",
       "      <th></th>\n",
       "    </tr>\n",
       "  </thead>\n",
       "  <tbody>\n",
       "    <tr>\n",
       "      <th>2004-12-31</th>\n",
       "      <td>55.810001</td>\n",
       "      <td>55.209999</td>\n",
       "      <td>55.259998</td>\n",
       "      <td>55.520000</td>\n",
       "      <td>2449700.0</td>\n",
       "      <td>32.560078</td>\n",
       "      <td>NaN</td>\n",
       "      <td>NaN</td>\n",
       "    </tr>\n",
       "    <tr>\n",
       "      <th>2005-01-03</th>\n",
       "      <td>56.529999</td>\n",
       "      <td>55.709999</td>\n",
       "      <td>55.970001</td>\n",
       "      <td>55.900002</td>\n",
       "      <td>5105800.0</td>\n",
       "      <td>32.782940</td>\n",
       "      <td>0.006845</td>\n",
       "      <td>NaN</td>\n",
       "    </tr>\n",
       "    <tr>\n",
       "      <th>2005-01-04</th>\n",
       "      <td>56.110001</td>\n",
       "      <td>54.759998</td>\n",
       "      <td>56.000000</td>\n",
       "      <td>55.299999</td>\n",
       "      <td>6100300.0</td>\n",
       "      <td>32.431065</td>\n",
       "      <td>-0.010733</td>\n",
       "      <td>NaN</td>\n",
       "    </tr>\n",
       "    <tr>\n",
       "      <th>2005-01-05</th>\n",
       "      <td>55.919998</td>\n",
       "      <td>54.980000</td>\n",
       "      <td>55.049999</td>\n",
       "      <td>54.980000</td>\n",
       "      <td>5072100.0</td>\n",
       "      <td>32.243382</td>\n",
       "      <td>-0.005787</td>\n",
       "      <td>NaN</td>\n",
       "    </tr>\n",
       "    <tr>\n",
       "      <th>2005-01-06</th>\n",
       "      <td>56.619999</td>\n",
       "      <td>55.770000</td>\n",
       "      <td>55.950001</td>\n",
       "      <td>56.279999</td>\n",
       "      <td>5991400.0</td>\n",
       "      <td>33.005783</td>\n",
       "      <td>0.023645</td>\n",
       "      <td>NaN</td>\n",
       "    </tr>\n",
       "    <tr>\n",
       "      <th>...</th>\n",
       "      <td>...</td>\n",
       "      <td>...</td>\n",
       "      <td>...</td>\n",
       "      <td>...</td>\n",
       "      <td>...</td>\n",
       "      <td>...</td>\n",
       "      <td>...</td>\n",
       "      <td>...</td>\n",
       "    </tr>\n",
       "    <tr>\n",
       "      <th>2022-09-26</th>\n",
       "      <td>81.660004</td>\n",
       "      <td>79.010002</td>\n",
       "      <td>80.919998</td>\n",
       "      <td>79.760002</td>\n",
       "      <td>8496000.0</td>\n",
       "      <td>78.993935</td>\n",
       "      <td>-0.021470</td>\n",
       "      <td>0.277761</td>\n",
       "    </tr>\n",
       "    <tr>\n",
       "      <th>2022-09-27</th>\n",
       "      <td>80.849998</td>\n",
       "      <td>78.349998</td>\n",
       "      <td>80.699997</td>\n",
       "      <td>79.480003</td>\n",
       "      <td>6855400.0</td>\n",
       "      <td>78.716629</td>\n",
       "      <td>-0.003510</td>\n",
       "      <td>0.273604</td>\n",
       "    </tr>\n",
       "    <tr>\n",
       "      <th>2022-09-28</th>\n",
       "      <td>81.889999</td>\n",
       "      <td>79.690002</td>\n",
       "      <td>79.760002</td>\n",
       "      <td>81.470001</td>\n",
       "      <td>6693500.0</td>\n",
       "      <td>80.687515</td>\n",
       "      <td>0.025038</td>\n",
       "      <td>0.290062</td>\n",
       "    </tr>\n",
       "    <tr>\n",
       "      <th>2022-09-29</th>\n",
       "      <td>81.029999</td>\n",
       "      <td>79.029999</td>\n",
       "      <td>80.800003</td>\n",
       "      <td>79.860001</td>\n",
       "      <td>5892700.0</td>\n",
       "      <td>79.092972</td>\n",
       "      <td>-0.019762</td>\n",
       "      <td>0.293877</td>\n",
       "    </tr>\n",
       "    <tr>\n",
       "      <th>2022-09-30</th>\n",
       "      <td>81.160004</td>\n",
       "      <td>78.860001</td>\n",
       "      <td>79.769997</td>\n",
       "      <td>79.010002</td>\n",
       "      <td>8090900.0</td>\n",
       "      <td>78.251137</td>\n",
       "      <td>-0.010644</td>\n",
       "      <td>0.289992</td>\n",
       "    </tr>\n",
       "  </tbody>\n",
       "</table>\n",
       "<p>4469 rows × 8 columns</p>\n",
       "</div>"
      ],
      "text/plain": [
       "                 High        Low       Open      Close     Volume  Adj Close  \\\n",
       "Date                                                                           \n",
       "2004-12-31  55.810001  55.209999  55.259998  55.520000  2449700.0  32.560078   \n",
       "2005-01-03  56.529999  55.709999  55.970001  55.900002  5105800.0  32.782940   \n",
       "2005-01-04  56.110001  54.759998  56.000000  55.299999  6100300.0  32.431065   \n",
       "2005-01-05  55.919998  54.980000  55.049999  54.980000  5072100.0  32.243382   \n",
       "2005-01-06  56.619999  55.770000  55.950001  56.279999  5991400.0  33.005783   \n",
       "...               ...        ...        ...        ...        ...        ...   \n",
       "2022-09-26  81.660004  79.010002  80.919998  79.760002  8496000.0  78.993935   \n",
       "2022-09-27  80.849998  78.349998  80.699997  79.480003  6855400.0  78.716629   \n",
       "2022-09-28  81.889999  79.690002  79.760002  81.470001  6693500.0  80.687515   \n",
       "2022-09-29  81.029999  79.029999  80.800003  79.860001  5892700.0  79.092972   \n",
       "2022-09-30  81.160004  78.860001  79.769997  79.010002  8090900.0  78.251137   \n",
       "\n",
       "              change  rolling_sigma  \n",
       "Date                                 \n",
       "2004-12-31       NaN            NaN  \n",
       "2005-01-03  0.006845            NaN  \n",
       "2005-01-04 -0.010733            NaN  \n",
       "2005-01-05 -0.005787            NaN  \n",
       "2005-01-06  0.023645            NaN  \n",
       "...              ...            ...  \n",
       "2022-09-26 -0.021470       0.277761  \n",
       "2022-09-27 -0.003510       0.273604  \n",
       "2022-09-28  0.025038       0.290062  \n",
       "2022-09-29 -0.019762       0.293877  \n",
       "2022-09-30 -0.010644       0.289992  \n",
       "\n",
       "[4469 rows x 8 columns]"
      ]
     },
     "execution_count": 39,
     "metadata": {},
     "output_type": "execute_result"
    }
   ],
   "source": [
    "data"
   ]
  },
  {
   "cell_type": "code",
   "execution_count": 40,
   "id": "913668ff",
   "metadata": {},
   "outputs": [
    {
     "data": {
      "text/html": [
       "<div>\n",
       "<style scoped>\n",
       "    .dataframe tbody tr th:only-of-type {\n",
       "        vertical-align: middle;\n",
       "    }\n",
       "\n",
       "    .dataframe tbody tr th {\n",
       "        vertical-align: top;\n",
       "    }\n",
       "\n",
       "    .dataframe thead th {\n",
       "        text-align: right;\n",
       "    }\n",
       "</style>\n",
       "<table border=\"1\" class=\"dataframe\">\n",
       "  <thead>\n",
       "    <tr style=\"text-align: right;\">\n",
       "      <th></th>\n",
       "      <th>High</th>\n",
       "      <th>Low</th>\n",
       "      <th>Open</th>\n",
       "      <th>Close</th>\n",
       "      <th>Volume</th>\n",
       "      <th>Adj Close</th>\n",
       "      <th>change</th>\n",
       "      <th>rolling_sigma</th>\n",
       "    </tr>\n",
       "  </thead>\n",
       "  <tbody>\n",
       "    <tr>\n",
       "      <th>count</th>\n",
       "      <td>4469.000000</td>\n",
       "      <td>4469.000000</td>\n",
       "      <td>4469.000000</td>\n",
       "      <td>4469.000000</td>\n",
       "      <td>4.469000e+03</td>\n",
       "      <td>4469.000000</td>\n",
       "      <td>4468.000000</td>\n",
       "      <td>4449.000000</td>\n",
       "    </tr>\n",
       "    <tr>\n",
       "      <th>mean</th>\n",
       "      <td>45.066527</td>\n",
       "      <td>43.886205</td>\n",
       "      <td>44.487532</td>\n",
       "      <td>44.477675</td>\n",
       "      <td>1.445339e+07</td>\n",
       "      <td>36.181413</td>\n",
       "      <td>0.000657</td>\n",
       "      <td>0.366222</td>\n",
       "    </tr>\n",
       "    <tr>\n",
       "      <th>std</th>\n",
       "      <td>21.911156</td>\n",
       "      <td>21.534901</td>\n",
       "      <td>21.724486</td>\n",
       "      <td>21.722172</td>\n",
       "      <td>1.353730e+07</td>\n",
       "      <td>19.979701</td>\n",
       "      <td>0.031309</td>\n",
       "      <td>0.349583</td>\n",
       "    </tr>\n",
       "    <tr>\n",
       "      <th>min</th>\n",
       "      <td>10.210000</td>\n",
       "      <td>6.710000</td>\n",
       "      <td>9.190000</td>\n",
       "      <td>9.200000</td>\n",
       "      <td>1.120500e+06</td>\n",
       "      <td>7.057823</td>\n",
       "      <td>-0.258929</td>\n",
       "      <td>0.089414</td>\n",
       "    </tr>\n",
       "    <tr>\n",
       "      <th>25%</th>\n",
       "      <td>28.070000</td>\n",
       "      <td>27.320000</td>\n",
       "      <td>27.730000</td>\n",
       "      <td>27.750000</td>\n",
       "      <td>7.588000e+06</td>\n",
       "      <td>22.191811</td>\n",
       "      <td>-0.010681</td>\n",
       "      <td>0.206687</td>\n",
       "    </tr>\n",
       "    <tr>\n",
       "      <th>50%</th>\n",
       "      <td>41.720001</td>\n",
       "      <td>40.500000</td>\n",
       "      <td>41.040001</td>\n",
       "      <td>41.169998</td>\n",
       "      <td>1.106180e+07</td>\n",
       "      <td>31.923801</td>\n",
       "      <td>0.000363</td>\n",
       "      <td>0.281669</td>\n",
       "    </tr>\n",
       "    <tr>\n",
       "      <th>75%</th>\n",
       "      <td>55.110001</td>\n",
       "      <td>53.630001</td>\n",
       "      <td>54.430000</td>\n",
       "      <td>54.369999</td>\n",
       "      <td>1.724660e+07</td>\n",
       "      <td>43.557819</td>\n",
       "      <td>0.011827</td>\n",
       "      <td>0.376563</td>\n",
       "    </tr>\n",
       "    <tr>\n",
       "      <th>max</th>\n",
       "      <td>109.730003</td>\n",
       "      <td>107.150002</td>\n",
       "      <td>108.190002</td>\n",
       "      <td>108.730003</td>\n",
       "      <td>3.297861e+08</td>\n",
       "      <td>105.765915</td>\n",
       "      <td>0.869835</td>\n",
       "      <td>3.934635</td>\n",
       "    </tr>\n",
       "  </tbody>\n",
       "</table>\n",
       "</div>"
      ],
      "text/plain": [
       "              High          Low         Open        Close        Volume  \\\n",
       "count  4469.000000  4469.000000  4469.000000  4469.000000  4.469000e+03   \n",
       "mean     45.066527    43.886205    44.487532    44.477675  1.445339e+07   \n",
       "std      21.911156    21.534901    21.724486    21.722172  1.353730e+07   \n",
       "min      10.210000     6.710000     9.190000     9.200000  1.120500e+06   \n",
       "25%      28.070000    27.320000    27.730000    27.750000  7.588000e+06   \n",
       "50%      41.720001    40.500000    41.040001    41.169998  1.106180e+07   \n",
       "75%      55.110001    53.630001    54.430000    54.369999  1.724660e+07   \n",
       "max     109.730003   107.150002   108.190002   108.730003  3.297861e+08   \n",
       "\n",
       "         Adj Close       change  rolling_sigma  \n",
       "count  4469.000000  4468.000000    4449.000000  \n",
       "mean     36.181413     0.000657       0.366222  \n",
       "std      19.979701     0.031309       0.349583  \n",
       "min       7.057823    -0.258929       0.089414  \n",
       "25%      22.191811    -0.010681       0.206687  \n",
       "50%      31.923801     0.000363       0.281669  \n",
       "75%      43.557819     0.011827       0.376563  \n",
       "max     105.765915     0.869835       3.934635  "
      ]
     },
     "execution_count": 40,
     "metadata": {},
     "output_type": "execute_result"
    }
   ],
   "source": [
    "data.describe()"
   ]
  },
  {
   "cell_type": "code",
   "execution_count": 41,
   "id": "13ab417e",
   "metadata": {},
   "outputs": [
    {
     "data": {
      "text/plain": [
       "Text(0, 0.5, 'Density')"
      ]
     },
     "execution_count": 41,
     "metadata": {},
     "output_type": "execute_result"
    },
    {
     "data": {
      "image/png": "[encoded data removed]",
      "text/plain": [
       "<Figure size 432x288 with 1 Axes>"
      ]
     },
     "metadata": {
      "needs_background": "light"
     },
     "output_type": "display_data"
    },
    {
     "data": {
      "image/png": "[encoded data removed]",
      "text/plain": [
       "<Figure size 432x288 with 1 Axes>"
      ]
     },
     "metadata": {
      "needs_background": "light"
     },
     "output_type": "display_data"
    }
   ],
   "source": [
    "std = data.change.std()\n",
    "WT = np.random.normal(data.change.mean() ,std, size=2000)\n",
    "plt.hist(np.exp(WT)-1,bins=300,color='red',alpha=0.4);\n",
    "plt.hist(data.change,bins=200,color='black', alpha=0.4);\n",
    "plt.xlim([-0.03,0.03])\n",
    "\n",
    "import seaborn as sns\n",
    "\n",
    "fig, ax = plt.subplots()\n",
    "ax = sns.kdeplot(data=data['change'].dropna(), label='Empirical', ax=ax,shade=True)\n",
    "ax = sns.kdeplot(data=WT, label='Log Normal', ax=ax,shade=True)\n",
    "plt.xlim([-0.15,0.15])\n",
    "plt.ylim([-1,40])\n",
    "plt.xlabel('return')\n",
    "plt.ylabel('Density')"
   ]
  },
  {
   "cell_type": "markdown",
   "id": "7cf5ced8",
   "metadata": {},
   "source": [
    "##### Another key problem is that the model underestimates the tail density. The KDE plot below shows the empircal verus a normal distribution for Morgan Stanley stock. This means that Black-Scholes will underestimate the value of out-of-the-money options. Both of these problems will be addressed in future articles. "
   ]
  },
  {
   "cell_type": "code",
   "execution_count": null,
   "id": "88af1fab",
   "metadata": {},
   "outputs": [],
   "source": []
  }
 ],
 "metadata": {
  "kernelspec": {
   "display_name": "Python 3 (ipykernel)",
   "language": "python",
   "name": "python3"
  },
  "language_info": {
   "codemirror_mode": {
    "name": "ipython",
    "version": 3
   },
   "file_extension": ".py",
   "mimetype": "text/x-python",
   "name": "python",
   "nbconvert_exporter": "python",
   "pygments_lexer": "ipython3",
   "version": "3.9.12"
  }
 },
 "nbformat": 4,
 "nbformat_minor": 5
}
